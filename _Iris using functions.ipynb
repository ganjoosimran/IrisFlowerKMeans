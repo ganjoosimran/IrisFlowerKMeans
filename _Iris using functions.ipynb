{
 "cells": [
  {
   "cell_type": "code",
   "execution_count": 78,
   "metadata": {},
   "outputs": [],
   "source": [
    "import pandas as pd\n",
    "import numpy as np   \n",
    "import matplotlib.pyplot as plt\n",
    "%matplotlib inline\n",
    "df=pd.read_csv(r'D:/Notes/Iris.csv')"
   ]
  },
  {
   "cell_type": "code",
   "execution_count": 79,
   "metadata": {},
   "outputs": [
    {
     "data": {
      "text/html": [
       "<div>\n",
       "<style scoped>\n",
       "    .dataframe tbody tr th:only-of-type {\n",
       "        vertical-align: middle;\n",
       "    }\n",
       "\n",
       "    .dataframe tbody tr th {\n",
       "        vertical-align: top;\n",
       "    }\n",
       "\n",
       "    .dataframe thead th {\n",
       "        text-align: right;\n",
       "    }\n",
       "</style>\n",
       "<table border=\"1\" class=\"dataframe\">\n",
       "  <thead>\n",
       "    <tr style=\"text-align: right;\">\n",
       "      <th></th>\n",
       "      <th>sepal_length</th>\n",
       "      <th>sepal_width</th>\n",
       "      <th>petal_length</th>\n",
       "      <th>petal_width</th>\n",
       "      <th>species</th>\n",
       "    </tr>\n",
       "  </thead>\n",
       "  <tbody>\n",
       "    <tr>\n",
       "      <th>0</th>\n",
       "      <td>5.1</td>\n",
       "      <td>3.5</td>\n",
       "      <td>1.4</td>\n",
       "      <td>0.2</td>\n",
       "      <td>setosa</td>\n",
       "    </tr>\n",
       "    <tr>\n",
       "      <th>1</th>\n",
       "      <td>4.9</td>\n",
       "      <td>3.0</td>\n",
       "      <td>1.4</td>\n",
       "      <td>0.2</td>\n",
       "      <td>setosa</td>\n",
       "    </tr>\n",
       "    <tr>\n",
       "      <th>2</th>\n",
       "      <td>4.7</td>\n",
       "      <td>3.2</td>\n",
       "      <td>1.3</td>\n",
       "      <td>0.2</td>\n",
       "      <td>setosa</td>\n",
       "    </tr>\n",
       "    <tr>\n",
       "      <th>3</th>\n",
       "      <td>4.6</td>\n",
       "      <td>3.1</td>\n",
       "      <td>1.5</td>\n",
       "      <td>0.2</td>\n",
       "      <td>setosa</td>\n",
       "    </tr>\n",
       "    <tr>\n",
       "      <th>4</th>\n",
       "      <td>5.0</td>\n",
       "      <td>3.6</td>\n",
       "      <td>1.4</td>\n",
       "      <td>0.2</td>\n",
       "      <td>setosa</td>\n",
       "    </tr>\n",
       "  </tbody>\n",
       "</table>\n",
       "</div>"
      ],
      "text/plain": [
       "   sepal_length  sepal_width  petal_length  petal_width species\n",
       "0           5.1          3.5           1.4          0.2  setosa\n",
       "1           4.9          3.0           1.4          0.2  setosa\n",
       "2           4.7          3.2           1.3          0.2  setosa\n",
       "3           4.6          3.1           1.5          0.2  setosa\n",
       "4           5.0          3.6           1.4          0.2  setosa"
      ]
     },
     "execution_count": 79,
     "metadata": {},
     "output_type": "execute_result"
    }
   ],
   "source": [
    "df.dropna()\n",
    "df.head()"
   ]
  },
  {
   "cell_type": "code",
   "execution_count": 80,
   "metadata": {},
   "outputs": [
    {
     "data": {
      "text/plain": [
       "sepal_length    0\n",
       "sepal_width     0\n",
       "petal_length    0\n",
       "petal_width     0\n",
       "species         0\n",
       "dtype: int64"
      ]
     },
     "execution_count": 80,
     "metadata": {},
     "output_type": "execute_result"
    }
   ],
   "source": [
    "df.shape\n",
    "df.columns\n",
    "df.isnull().sum()"
   ]
  },
  {
   "cell_type": "code",
   "execution_count": 81,
   "metadata": {},
   "outputs": [
    {
     "data": {
      "text/html": [
       "<div>\n",
       "<style scoped>\n",
       "    .dataframe tbody tr th:only-of-type {\n",
       "        vertical-align: middle;\n",
       "    }\n",
       "\n",
       "    .dataframe tbody tr th {\n",
       "        vertical-align: top;\n",
       "    }\n",
       "\n",
       "    .dataframe thead th {\n",
       "        text-align: right;\n",
       "    }\n",
       "</style>\n",
       "<table border=\"1\" class=\"dataframe\">\n",
       "  <thead>\n",
       "    <tr style=\"text-align: right;\">\n",
       "      <th></th>\n",
       "      <th>sepal_length</th>\n",
       "      <th>sepal_width</th>\n",
       "      <th>petal_length</th>\n",
       "      <th>petal_width</th>\n",
       "    </tr>\n",
       "  </thead>\n",
       "  <tbody>\n",
       "    <tr>\n",
       "      <th>sepal_length</th>\n",
       "      <td>1.000000</td>\n",
       "      <td>-0.109369</td>\n",
       "      <td>0.871754</td>\n",
       "      <td>0.817954</td>\n",
       "    </tr>\n",
       "    <tr>\n",
       "      <th>sepal_width</th>\n",
       "      <td>-0.109369</td>\n",
       "      <td>1.000000</td>\n",
       "      <td>-0.420516</td>\n",
       "      <td>-0.356544</td>\n",
       "    </tr>\n",
       "    <tr>\n",
       "      <th>petal_length</th>\n",
       "      <td>0.871754</td>\n",
       "      <td>-0.420516</td>\n",
       "      <td>1.000000</td>\n",
       "      <td>0.962757</td>\n",
       "    </tr>\n",
       "    <tr>\n",
       "      <th>petal_width</th>\n",
       "      <td>0.817954</td>\n",
       "      <td>-0.356544</td>\n",
       "      <td>0.962757</td>\n",
       "      <td>1.000000</td>\n",
       "    </tr>\n",
       "  </tbody>\n",
       "</table>\n",
       "</div>"
      ],
      "text/plain": [
       "              sepal_length  sepal_width  petal_length  petal_width\n",
       "sepal_length      1.000000    -0.109369      0.871754     0.817954\n",
       "sepal_width      -0.109369     1.000000     -0.420516    -0.356544\n",
       "petal_length      0.871754    -0.420516      1.000000     0.962757\n",
       "petal_width       0.817954    -0.356544      0.962757     1.000000"
      ]
     },
     "execution_count": 81,
     "metadata": {},
     "output_type": "execute_result"
    }
   ],
   "source": [
    "df.corr()"
   ]
  },
  {
   "cell_type": "code",
   "execution_count": 98,
   "metadata": {},
   "outputs": [
    {
     "data": {
      "text/plain": [
       "<matplotlib.collections.PathCollection at 0x19156a8d2b0>"
      ]
     },
     "execution_count": 98,
     "metadata": {},
     "output_type": "execute_result"
    },
    {
     "data": {
      "image/png": "[encoded data removed]",
      "text/plain": [
       "<Figure size 432x288 with 1 Axes>"
      ]
     },
     "metadata": {},
     "output_type": "display_data"
    }
   ],
   "source": [
    "x=df[\"sepal_length\"]\n",
    "y=df[\"sepal_width\"]\n",
    "u=df[\"species\"]\n",
    "plt.scatter(u,x,c='rm')"
   ]
  },
  {
   "cell_type": "code",
   "execution_count": 99,
   "metadata": {},
   "outputs": [
    {
     "data": {
      "text/plain": [
       "<matplotlib.collections.PathCollection at 0x19156a29208>"
      ]
     },
     "execution_count": 99,
     "metadata": {},
     "output_type": "execute_result"
    },
    {
     "data": {
      "image/png": "[encoded data removed]",
      "text/plain": [
       "<Figure size 432x288 with 1 Axes>"
      ]
     },
     "metadata": {},
     "output_type": "display_data"
    }
   ],
   "source": [
    "plt.scatter(x,y,c='bc')"
   ]
  },
  {
   "cell_type": "code",
   "execution_count": 35,
   "metadata": {},
   "outputs": [
    {
     "data": {
      "text/plain": [
       "<matplotlib.collections.PathCollection at 0x19156849ba8>"
      ]
     },
     "execution_count": 35,
     "metadata": {},
     "output_type": "execute_result"
    },
    {
     "data": {
      "image/png": "[encoded data removed]",
      "text/plain": [
       "<Figure size 432x288 with 1 Axes>"
      ]
     },
     "metadata": {},
     "output_type": "display_data"
    }
   ],
   "source": [
    "plt.scatter(u,y,c='gy')"
   ]
  },
  {
   "cell_type": "code",
   "execution_count": 36,
   "metadata": {},
   "outputs": [
    {
     "data": {
      "text/html": [
       "<div>\n",
       "<style scoped>\n",
       "    .dataframe tbody tr th:only-of-type {\n",
       "        vertical-align: middle;\n",
       "    }\n",
       "\n",
       "    .dataframe tbody tr th {\n",
       "        vertical-align: top;\n",
       "    }\n",
       "\n",
       "    .dataframe thead th {\n",
       "        text-align: right;\n",
       "    }\n",
       "</style>\n",
       "<table border=\"1\" class=\"dataframe\">\n",
       "  <thead>\n",
       "    <tr style=\"text-align: right;\">\n",
       "      <th></th>\n",
       "      <th>sepal_length</th>\n",
       "      <th>sepal_width</th>\n",
       "      <th>petal_length</th>\n",
       "      <th>petal_width</th>\n",
       "    </tr>\n",
       "  </thead>\n",
       "  <tbody>\n",
       "    <tr>\n",
       "      <th>0</th>\n",
       "      <td>5.1</td>\n",
       "      <td>3.5</td>\n",
       "      <td>1.4</td>\n",
       "      <td>0.2</td>\n",
       "    </tr>\n",
       "    <tr>\n",
       "      <th>1</th>\n",
       "      <td>4.9</td>\n",
       "      <td>3.0</td>\n",
       "      <td>1.4</td>\n",
       "      <td>0.2</td>\n",
       "    </tr>\n",
       "    <tr>\n",
       "      <th>2</th>\n",
       "      <td>4.7</td>\n",
       "      <td>3.2</td>\n",
       "      <td>1.3</td>\n",
       "      <td>0.2</td>\n",
       "    </tr>\n",
       "    <tr>\n",
       "      <th>3</th>\n",
       "      <td>4.6</td>\n",
       "      <td>3.1</td>\n",
       "      <td>1.5</td>\n",
       "      <td>0.2</td>\n",
       "    </tr>\n",
       "    <tr>\n",
       "      <th>4</th>\n",
       "      <td>5.0</td>\n",
       "      <td>3.6</td>\n",
       "      <td>1.4</td>\n",
       "      <td>0.2</td>\n",
       "    </tr>\n",
       "  </tbody>\n",
       "</table>\n",
       "</div>"
      ],
      "text/plain": [
       "   sepal_length  sepal_width  petal_length  petal_width\n",
       "0           5.1          3.5           1.4          0.2\n",
       "1           4.9          3.0           1.4          0.2\n",
       "2           4.7          3.2           1.3          0.2\n",
       "3           4.6          3.1           1.5          0.2\n",
       "4           5.0          3.6           1.4          0.2"
      ]
     },
     "execution_count": 36,
     "metadata": {},
     "output_type": "execute_result"
    }
   ],
   "source": [
    "x=df.drop([\"species\"],axis=1)\n",
    "x[0:5]"
   ]
  },
  {
   "cell_type": "code",
   "execution_count": 37,
   "metadata": {},
   "outputs": [],
   "source": [
    "X = df.iloc[:,0:5]"
   ]
  },
  {
   "cell_type": "code",
   "execution_count": 38,
   "metadata": {},
   "outputs": [],
   "source": [
    "y = df['species']"
   ]
  },
  {
   "cell_type": "code",
   "execution_count": 39,
   "metadata": {},
   "outputs": [
    {
     "data": {
      "text/html": [
       "<div>\n",
       "<style scoped>\n",
       "    .dataframe tbody tr th:only-of-type {\n",
       "        vertical-align: middle;\n",
       "    }\n",
       "\n",
       "    .dataframe tbody tr th {\n",
       "        vertical-align: top;\n",
       "    }\n",
       "\n",
       "    .dataframe thead th {\n",
       "        text-align: right;\n",
       "    }\n",
       "</style>\n",
       "<table border=\"1\" class=\"dataframe\">\n",
       "  <thead>\n",
       "    <tr style=\"text-align: right;\">\n",
       "      <th></th>\n",
       "      <th>sepal_length</th>\n",
       "      <th>sepal_width</th>\n",
       "      <th>petal_length</th>\n",
       "      <th>petal_width</th>\n",
       "      <th>species</th>\n",
       "    </tr>\n",
       "  </thead>\n",
       "  <tbody>\n",
       "    <tr>\n",
       "      <th>0</th>\n",
       "      <td>5.1</td>\n",
       "      <td>3.5</td>\n",
       "      <td>1.4</td>\n",
       "      <td>0.2</td>\n",
       "      <td>setosa</td>\n",
       "    </tr>\n",
       "    <tr>\n",
       "      <th>1</th>\n",
       "      <td>4.9</td>\n",
       "      <td>3.0</td>\n",
       "      <td>1.4</td>\n",
       "      <td>0.2</td>\n",
       "      <td>setosa</td>\n",
       "    </tr>\n",
       "    <tr>\n",
       "      <th>2</th>\n",
       "      <td>4.7</td>\n",
       "      <td>3.2</td>\n",
       "      <td>1.3</td>\n",
       "      <td>0.2</td>\n",
       "      <td>setosa</td>\n",
       "    </tr>\n",
       "    <tr>\n",
       "      <th>3</th>\n",
       "      <td>4.6</td>\n",
       "      <td>3.1</td>\n",
       "      <td>1.5</td>\n",
       "      <td>0.2</td>\n",
       "      <td>setosa</td>\n",
       "    </tr>\n",
       "    <tr>\n",
       "      <th>4</th>\n",
       "      <td>5.0</td>\n",
       "      <td>3.6</td>\n",
       "      <td>1.4</td>\n",
       "      <td>0.2</td>\n",
       "      <td>setosa</td>\n",
       "    </tr>\n",
       "  </tbody>\n",
       "</table>\n",
       "</div>"
      ],
      "text/plain": [
       "   sepal_length  sepal_width  petal_length  petal_width species\n",
       "0           5.1          3.5           1.4          0.2  setosa\n",
       "1           4.9          3.0           1.4          0.2  setosa\n",
       "2           4.7          3.2           1.3          0.2  setosa\n",
       "3           4.6          3.1           1.5          0.2  setosa\n",
       "4           5.0          3.6           1.4          0.2  setosa"
      ]
     },
     "execution_count": 39,
     "metadata": {},
     "output_type": "execute_result"
    }
   ],
   "source": [
    "X[0:5]"
   ]
  },
  {
   "cell_type": "code",
   "execution_count": 40,
   "metadata": {},
   "outputs": [],
   "source": [
    "from sklearn.model_selection import train_test_split\n",
    "from sklearn.neighbors import KNeighborsClassifier\n",
    "from sklearn.model_selection import cross_val_score\n",
    "from sklearn.metrics import accuracy_score"
   ]
  },
  {
   "cell_type": "code",
   "execution_count": 41,
   "metadata": {},
   "outputs": [
    {
     "name": "stderr",
     "output_type": "stream",
     "text": [
      "C:\\Users\\ganjo\\Anaconda3\\lib\\site-packages\\sklearn\\model_selection\\_split.py:2026: FutureWarning: From version 0.21, test_size will always complement train_size unless both are specified.\n",
      "  FutureWarning)\n"
     ]
    },
    {
     "name": "stdout",
     "output_type": "stream",
     "text": [
      "Train K= 1 \t->\t 1.0\n",
      "Test K= 1 \t->\t 1.0\n",
      "Train K= 2 \t->\t 0.975\n",
      "Test K= 2 \t->\t 1.0\n",
      "Train K= 3 \t->\t 0.95\n",
      "Test K= 3 \t->\t 1.0\n",
      "Train K= 4 \t->\t 0.9583333333333334\n",
      "Test K= 4 \t->\t 1.0\n",
      "Train K= 5 \t->\t 0.9583333333333334\n",
      "Test K= 5 \t->\t 1.0\n",
      "Train K= 6 \t->\t 0.9583333333333334\n",
      "Test K= 6 \t->\t 1.0\n",
      "Train K= 7 \t->\t 0.9666666666666667\n",
      "Test K= 7 \t->\t 0.9666666666666667\n",
      "Train K= 8 \t->\t 0.9833333333333333\n",
      "Test K= 8 \t->\t 1.0\n",
      "Train K= 9 \t->\t 0.975\n",
      "Test K= 9 \t->\t 0.9666666666666667\n",
      "Train K= 10 \t->\t 0.975\n",
      "Test K= 10 \t->\t 0.9666666666666667\n",
      "Train K= 11 \t->\t 0.975\n",
      "Test K= 11 \t->\t 0.9666666666666667\n",
      "Train K= 12 \t->\t 0.9666666666666667\n",
      "Test K= 12 \t->\t 0.9666666666666667\n",
      "Train K= 13 \t->\t 0.975\n",
      "Test K= 13 \t->\t 0.9666666666666667\n",
      "Train K= 14 \t->\t 0.975\n",
      "Test K= 14 \t->\t 0.9666666666666667\n",
      "Train K= 15 \t->\t 0.975\n",
      "Test K= 15 \t->\t 0.9666666666666667\n",
      "Train K= 16 \t->\t 0.975\n",
      "Test K= 16 \t->\t 0.9666666666666667\n",
      "Train K= 17 \t->\t 0.975\n",
      "Test K= 17 \t->\t 0.9666666666666667\n",
      "Train K= 18 \t->\t 0.975\n",
      "Test K= 18 \t->\t 0.9666666666666667\n",
      "Train K= 19 \t->\t 0.9666666666666667\n",
      "Test K= 19 \t->\t 0.9666666666666667\n",
      "Train K= 20 \t->\t 0.9666666666666667\n",
      "Test K= 20 \t->\t 0.9666666666666667\n",
      "Train K= 21 \t->\t 0.9583333333333334\n",
      "Test K= 21 \t->\t 0.9666666666666667\n",
      "Train K= 22 \t->\t 0.975\n",
      "Test K= 22 \t->\t 0.9666666666666667\n",
      "Train K= 23 \t->\t 0.9666666666666667\n",
      "Test K= 23 \t->\t 0.9666666666666667\n",
      "Train K= 24 \t->\t 0.9666666666666667\n",
      "Test K= 24 \t->\t 0.9666666666666667\n",
      "Train K= 25 \t->\t 0.9583333333333334\n",
      "Test K= 25 \t->\t 0.9666666666666667\n",
      "Train K= 26 \t->\t 0.9666666666666667\n",
      "Test K= 26 \t->\t 0.9666666666666667\n",
      "Train K= 27 \t->\t 0.9583333333333334\n",
      "Test K= 27 \t->\t 0.9666666666666667\n",
      "Train K= 28 \t->\t 0.9583333333333334\n",
      "Test K= 28 \t->\t 0.9666666666666667\n",
      "Train K= 29 \t->\t 0.95\n",
      "Test K= 29 \t->\t 0.9666666666666667\n",
      "Train K= 30 \t->\t 0.9583333333333334\n",
      "Test K= 30 \t->\t 0.9666666666666667\n",
      "Train K= 31 \t->\t 0.9583333333333334\n",
      "Test K= 31 \t->\t 0.9666666666666667\n",
      "Train K= 32 \t->\t 0.9666666666666667\n",
      "Test K= 32 \t->\t 0.9666666666666667\n",
      "Train K= 33 \t->\t 0.9583333333333334\n",
      "Test K= 33 \t->\t 0.9666666666666667\n",
      "Train K= 34 \t->\t 0.9583333333333334\n",
      "Test K= 34 \t->\t 0.9666666666666667\n",
      "Train K= 35 \t->\t 0.9583333333333334\n",
      "Test K= 35 \t->\t 0.9666666666666667\n",
      "Train K= 36 \t->\t 0.95\n",
      "Test K= 36 \t->\t 0.9666666666666667\n",
      "Train K= 37 \t->\t 0.9583333333333334\n",
      "Test K= 37 \t->\t 0.9666666666666667\n",
      "Train K= 38 \t->\t 0.9666666666666667\n",
      "Test K= 38 \t->\t 0.9666666666666667\n",
      "Train K= 39 \t->\t 0.9583333333333334\n",
      "Test K= 39 \t->\t 0.9666666666666667\n",
      "Train K= 40 \t->\t 0.975\n",
      "Test K= 40 \t->\t 0.9666666666666667\n",
      "Train K= 41 \t->\t 0.95\n",
      "Test K= 41 \t->\t 0.9666666666666667\n",
      "Train K= 42 \t->\t 0.9416666666666667\n",
      "Test K= 42 \t->\t 0.9666666666666667\n",
      "Train K= 43 \t->\t 0.9333333333333333\n",
      "Test K= 43 \t->\t 0.9666666666666667\n",
      "Train K= 44 \t->\t 0.9416666666666667\n",
      "Test K= 44 \t->\t 0.9666666666666667\n",
      "Train K= 45 \t->\t 0.9333333333333333\n",
      "Test K= 45 \t->\t 0.9666666666666667\n",
      "Train K= 46 \t->\t 0.9333333333333333\n",
      "Test K= 46 \t->\t 0.9666666666666667\n",
      "Train K= 47 \t->\t 0.925\n",
      "Test K= 47 \t->\t 0.9666666666666667\n",
      "Train K= 48 \t->\t 0.9333333333333333\n",
      "Test K= 48 \t->\t 0.9666666666666667\n",
      "Train K= 49 \t->\t 0.925\n",
      "Test K= 49 \t->\t 0.9333333333333333\n",
      "Train K= 50 \t->\t 0.925\n",
      "Test K= 50 \t->\t 0.9666666666666667\n",
      "Train K= 51 \t->\t 0.925\n",
      "Test K= 51 \t->\t 0.9333333333333333\n",
      "Train K= 52 \t->\t 0.9333333333333333\n",
      "Test K= 52 \t->\t 0.9333333333333333\n",
      "Train K= 53 \t->\t 0.9333333333333333\n",
      "Test K= 53 \t->\t 0.9333333333333333\n",
      "Train K= 54 \t->\t 0.9333333333333333\n",
      "Test K= 54 \t->\t 0.9333333333333333\n",
      "Train K= 55 \t->\t 0.9333333333333333\n",
      "Test K= 55 \t->\t 0.9\n",
      "Train K= 56 \t->\t 0.9333333333333333\n",
      "Test K= 56 \t->\t 0.9\n",
      "Train K= 57 \t->\t 0.9333333333333333\n",
      "Test K= 57 \t->\t 0.9\n",
      "Train K= 58 \t->\t 0.9333333333333333\n",
      "Test K= 58 \t->\t 0.9\n",
      "Train K= 59 \t->\t 0.925\n",
      "Test K= 59 \t->\t 0.9\n",
      "Train K= 60 \t->\t 0.925\n",
      "Test K= 60 \t->\t 0.9\n",
      "Train K= 61 \t->\t 0.925\n",
      "Test K= 61 \t->\t 0.9\n",
      "Train K= 62 \t->\t 0.925\n",
      "Test K= 62 \t->\t 0.9\n",
      "Train K= 63 \t->\t 0.925\n",
      "Test K= 63 \t->\t 0.9\n",
      "Train K= 64 \t->\t 0.925\n",
      "Test K= 64 \t->\t 0.9\n",
      "Train K= 65 \t->\t 0.925\n",
      "Test K= 65 \t->\t 0.9\n",
      "Train K= 66 \t->\t 0.925\n",
      "Test K= 66 \t->\t 0.9\n",
      "Train K= 67 \t->\t 0.925\n",
      "Test K= 67 \t->\t 0.9\n",
      "Train K= 68 \t->\t 0.925\n",
      "Test K= 68 \t->\t 0.9\n",
      "Train K= 69 \t->\t 0.8833333333333333\n",
      "Test K= 69 \t->\t 0.8\n",
      "Train K= 70 \t->\t 0.8833333333333333\n",
      "Test K= 70 \t->\t 0.8333333333333334\n",
      "Train K= 71 \t->\t 0.8833333333333333\n",
      "Test K= 71 \t->\t 0.8333333333333334\n",
      "Train K= 72 \t->\t 0.9\n",
      "Test K= 72 \t->\t 0.8333333333333334\n",
      "Train K= 73 \t->\t 0.9\n",
      "Test K= 73 \t->\t 0.8333333333333334\n",
      "Train K= 74 \t->\t 0.9\n",
      "Test K= 74 \t->\t 0.8333333333333334\n",
      "Train K= 75 \t->\t 0.825\n",
      "Test K= 75 \t->\t 0.6666666666666666\n",
      "Train K= 76 \t->\t 0.825\n",
      "Test K= 76 \t->\t 0.6333333333333333\n",
      "Train K= 77 \t->\t 0.8166666666666667\n",
      "Test K= 77 \t->\t 0.6333333333333333\n",
      "Train K= 78 \t->\t 0.8083333333333333\n",
      "Test K= 78 \t->\t 0.6\n",
      "Train K= 79 \t->\t 0.8\n",
      "Test K= 79 \t->\t 0.6\n",
      "Train K= 80 \t->\t 0.8\n",
      "Test K= 80 \t->\t 0.6\n",
      "Train K= 81 \t->\t 0.8\n",
      "Test K= 81 \t->\t 0.6\n",
      "Train K= 82 \t->\t 0.7916666666666666\n",
      "Test K= 82 \t->\t 0.5666666666666667\n",
      "Train K= 83 \t->\t 0.775\n",
      "Test K= 83 \t->\t 0.5666666666666667\n",
      "Train K= 84 \t->\t 0.775\n",
      "Test K= 84 \t->\t 0.5666666666666667\n",
      "Train K= 85 \t->\t 0.775\n",
      "Test K= 85 \t->\t 0.5666666666666667\n",
      "Train K= 86 \t->\t 0.775\n",
      "Test K= 86 \t->\t 0.5666666666666667\n",
      "Train K= 87 \t->\t 0.775\n",
      "Test K= 87 \t->\t 0.5666666666666667\n",
      "Train K= 88 \t->\t 0.7833333333333333\n",
      "Test K= 88 \t->\t 0.5666666666666667\n",
      "Train K= 89 \t->\t 0.7833333333333333\n",
      "Test K= 89 \t->\t 0.5666666666666667\n",
      "Train K= 90 \t->\t 0.775\n",
      "Test K= 90 \t->\t 0.5666666666666667\n",
      "Train K= 91 \t->\t 0.775\n",
      "Test K= 91 \t->\t 0.5666666666666667\n",
      "Train K= 92 \t->\t 0.775\n",
      "Test K= 92 \t->\t 0.5666666666666667\n",
      "Train K= 93 \t->\t 0.7666666666666667\n",
      "Test K= 93 \t->\t 0.5666666666666667\n",
      "Train K= 94 \t->\t 0.7666666666666667\n",
      "Test K= 94 \t->\t 0.5666666666666667\n",
      "Train K= 95 \t->\t 0.7666666666666667\n",
      "Test K= 95 \t->\t 0.5666666666666667\n",
      "Train K= 96 \t->\t 0.7666666666666667\n",
      "Test K= 96 \t->\t 0.5666666666666667\n",
      "Train K= 97 \t->\t 0.7666666666666667\n",
      "Test K= 97 \t->\t 0.5666666666666667\n",
      "Train K= 98 \t->\t 0.7666666666666667\n",
      "Test K= 98 \t->\t 0.5666666666666667\n",
      "Train K= 99 \t->\t 0.7666666666666667\n",
      "Test K= 99 \t->\t 0.5666666666666667\n",
      "Train K= 100 \t->\t 0.75\n",
      "Test K= 100 \t->\t 0.5666666666666667\n",
      "Train K= 101 \t->\t 0.7416666666666667\n",
      "Test K= 101 \t->\t 0.5666666666666667\n",
      "Train K= 102 \t->\t 0.7416666666666667\n",
      "Test K= 102 \t->\t 0.5666666666666667\n",
      "Train K= 103 \t->\t 0.7416666666666667\n",
      "Test K= 103 \t->\t 0.5666666666666667\n",
      "Train K= 104 \t->\t 0.7416666666666667\n",
      "Test K= 104 \t->\t 0.5666666666666667\n",
      "Train K= 105 \t->\t 0.7333333333333333\n",
      "Test K= 105 \t->\t 0.5666666666666667\n",
      "Train K= 106 \t->\t 0.7333333333333333\n",
      "Test K= 106 \t->\t 0.5666666666666667\n",
      "Train K= 107 \t->\t 0.7333333333333333\n",
      "Test K= 107 \t->\t 0.5666666666666667\n",
      "Train K= 108 \t->\t 0.7333333333333333\n",
      "Test K= 108 \t->\t 0.5666666666666667\n",
      "Train K= 109 \t->\t 0.7333333333333333\n",
      "Test K= 109 \t->\t 0.5666666666666667\n",
      "Train K= 110 \t->\t 0.7\n",
      "Test K= 110 \t->\t 0.5666666666666667\n",
      "Train K= 111 \t->\t 0.6916666666666667\n",
      "Test K= 111 \t->\t 0.5666666666666667\n",
      "Train K= 112 \t->\t 0.6916666666666667\n",
      "Test K= 112 \t->\t 0.5666666666666667\n",
      "Train K= 113 \t->\t 0.6916666666666667\n",
      "Test K= 113 \t->\t 0.5666666666666667\n",
      "Train K= 114 \t->\t 0.6916666666666667\n",
      "Test K= 114 \t->\t 0.5666666666666667\n",
      "Train K= 115 \t->\t 0.6916666666666667\n",
      "Test K= 115 \t->\t 0.5666666666666667\n",
      "Train K= 116 \t->\t 0.36666666666666664\n",
      "Test K= 116 \t->\t 0.2\n",
      "Train K= 117 \t->\t 0.36666666666666664\n",
      "Test K= 117 \t->\t 0.2\n",
      "Train K= 118 \t->\t 0.36666666666666664\n",
      "Test K= 118 \t->\t 0.2\n",
      "Train K= 119 \t->\t 0.36666666666666664\n",
      "Test K= 119 \t->\t 0.2\n",
      "Train K= 120 \t->\t 0.36666666666666664\n",
      "Test K= 120 \t->\t 0.2\n"
     ]
    },
    {
     "ename": "ValueError",
     "evalue": "Expected n_neighbors <= n_samples,  but n_samples = 120, n_neighbors = 121",
     "output_type": "error",
     "traceback": [
      "\u001b[1;31m---------------------------------------------------------------------------\u001b[0m",
      "\u001b[1;31mValueError\u001b[0m                                Traceback (most recent call last)",
      "\u001b[1;32m<ipython-input-41-bb61c44425a0>\u001b[0m in \u001b[0;36m<module>\u001b[1;34m()\u001b[0m\n\u001b[0;32m      4\u001b[0m     \u001b[0mmodel\u001b[0m\u001b[1;33m.\u001b[0m\u001b[0mfit\u001b[0m\u001b[1;33m(\u001b[0m\u001b[0mx_t\u001b[0m\u001b[1;33m,\u001b[0m\u001b[0my_t\u001b[0m\u001b[1;33m)\u001b[0m\u001b[1;33m\u001b[0m\u001b[0m\n\u001b[0;32m      5\u001b[0m \u001b[1;33m\u001b[0m\u001b[0m\n\u001b[1;32m----> 6\u001b[1;33m     \u001b[0mprint\u001b[0m\u001b[1;33m(\u001b[0m\u001b[1;34m'Train'\u001b[0m\u001b[1;33m,\u001b[0m\u001b[1;34m'K='\u001b[0m\u001b[1;33m,\u001b[0m\u001b[0mi\u001b[0m\u001b[1;33m,\u001b[0m\u001b[1;34m'\\t->\\t'\u001b[0m\u001b[1;33m,\u001b[0m\u001b[0maccuracy_score\u001b[0m\u001b[1;33m(\u001b[0m\u001b[0my_t\u001b[0m\u001b[1;33m,\u001b[0m\u001b[0mmodel\u001b[0m\u001b[1;33m.\u001b[0m\u001b[0mpredict\u001b[0m\u001b[1;33m(\u001b[0m\u001b[0mx_t\u001b[0m\u001b[1;33m)\u001b[0m\u001b[1;33m)\u001b[0m\u001b[1;33m)\u001b[0m\u001b[1;33m\u001b[0m\u001b[0m\n\u001b[0m\u001b[0;32m      7\u001b[0m     \u001b[0mprint\u001b[0m\u001b[1;33m(\u001b[0m\u001b[1;34m'Test'\u001b[0m\u001b[1;33m,\u001b[0m\u001b[1;34m'K='\u001b[0m\u001b[1;33m,\u001b[0m\u001b[0mi\u001b[0m\u001b[1;33m,\u001b[0m\u001b[1;34m'\\t->\\t'\u001b[0m\u001b[1;33m,\u001b[0m\u001b[0maccuracy_score\u001b[0m\u001b[1;33m(\u001b[0m\u001b[0my_te\u001b[0m\u001b[1;33m,\u001b[0m\u001b[0mmodel\u001b[0m\u001b[1;33m.\u001b[0m\u001b[0mpredict\u001b[0m\u001b[1;33m(\u001b[0m\u001b[0mx_te\u001b[0m\u001b[1;33m)\u001b[0m\u001b[1;33m)\u001b[0m\u001b[1;33m)\u001b[0m\u001b[1;33m\u001b[0m\u001b[0m\n",
      "\u001b[1;32m~\\Anaconda3\\lib\\site-packages\\sklearn\\neighbors\\classification.py\u001b[0m in \u001b[0;36mpredict\u001b[1;34m(self, X)\u001b[0m\n\u001b[0;32m    143\u001b[0m         \u001b[0mX\u001b[0m \u001b[1;33m=\u001b[0m \u001b[0mcheck_array\u001b[0m\u001b[1;33m(\u001b[0m\u001b[0mX\u001b[0m\u001b[1;33m,\u001b[0m \u001b[0maccept_sparse\u001b[0m\u001b[1;33m=\u001b[0m\u001b[1;34m'csr'\u001b[0m\u001b[1;33m)\u001b[0m\u001b[1;33m\u001b[0m\u001b[0m\n\u001b[0;32m    144\u001b[0m \u001b[1;33m\u001b[0m\u001b[0m\n\u001b[1;32m--> 145\u001b[1;33m         \u001b[0mneigh_dist\u001b[0m\u001b[1;33m,\u001b[0m \u001b[0mneigh_ind\u001b[0m \u001b[1;33m=\u001b[0m \u001b[0mself\u001b[0m\u001b[1;33m.\u001b[0m\u001b[0mkneighbors\u001b[0m\u001b[1;33m(\u001b[0m\u001b[0mX\u001b[0m\u001b[1;33m)\u001b[0m\u001b[1;33m\u001b[0m\u001b[0m\n\u001b[0m\u001b[0;32m    146\u001b[0m \u001b[1;33m\u001b[0m\u001b[0m\n\u001b[0;32m    147\u001b[0m         \u001b[0mclasses_\u001b[0m \u001b[1;33m=\u001b[0m \u001b[0mself\u001b[0m\u001b[1;33m.\u001b[0m\u001b[0mclasses_\u001b[0m\u001b[1;33m\u001b[0m\u001b[0m\n",
      "\u001b[1;32m~\\Anaconda3\\lib\\site-packages\\sklearn\\neighbors\\base.py\u001b[0m in \u001b[0;36mkneighbors\u001b[1;34m(self, X, n_neighbors, return_distance)\u001b[0m\n\u001b[0;32m    345\u001b[0m                 \u001b[1;34m\"Expected n_neighbors <= n_samples, \"\u001b[0m\u001b[1;33m\u001b[0m\u001b[0m\n\u001b[0;32m    346\u001b[0m                 \u001b[1;34m\" but n_samples = %d, n_neighbors = %d\"\u001b[0m \u001b[1;33m%\u001b[0m\u001b[1;33m\u001b[0m\u001b[0m\n\u001b[1;32m--> 347\u001b[1;33m                 \u001b[1;33m(\u001b[0m\u001b[0mtrain_size\u001b[0m\u001b[1;33m,\u001b[0m \u001b[0mn_neighbors\u001b[0m\u001b[1;33m)\u001b[0m\u001b[1;33m\u001b[0m\u001b[0m\n\u001b[0m\u001b[0;32m    348\u001b[0m             )\n\u001b[0;32m    349\u001b[0m         \u001b[0mn_samples\u001b[0m\u001b[1;33m,\u001b[0m \u001b[0m_\u001b[0m \u001b[1;33m=\u001b[0m \u001b[0mX\u001b[0m\u001b[1;33m.\u001b[0m\u001b[0mshape\u001b[0m\u001b[1;33m\u001b[0m\u001b[0m\n",
      "\u001b[1;31mValueError\u001b[0m: Expected n_neighbors <= n_samples,  but n_samples = 120, n_neighbors = 121"
     ]
    }
   ],
   "source": [
    "for i in range(1,len(x)):\n",
    "    model=KNeighborsClassifier(n_neighbors=i)\n",
    "    x_t,x_te,y_t,y_te=train_test_split(x,y,train_size=0.8,random_state=1)\n",
    "    model.fit(x_t,y_t)\n",
    "    \n",
    "    print('Train','K=',i,'\\t->\\t',accuracy_score(y_t,model.predict(x_t)))\n",
    "    print('Test','K=',i,'\\t->\\t',accuracy_score(y_te,model.predict(x_te)))"
   ]
  },
  {
   "cell_type": "code",
   "execution_count": 45,
   "metadata": {},
   "outputs": [],
   "source": [
    "from sklearn import neighbors\n",
    "model=KNeighborsClassifier(n_neighbors=3)"
   ]
  },
  {
   "cell_type": "code",
   "execution_count": 46,
   "metadata": {},
   "outputs": [
    {
     "data": {
      "text/plain": [
       "KNeighborsClassifier(algorithm='auto', leaf_size=30, metric='minkowski',\n",
       "           metric_params=None, n_jobs=1, n_neighbors=3, p=2,\n",
       "           weights='uniform')"
      ]
     },
     "execution_count": 46,
     "metadata": {},
     "output_type": "execute_result"
    }
   ],
   "source": [
    "model.fit(x_t, y_t)"
   ]
  },
  {
   "cell_type": "code",
   "execution_count": 47,
   "metadata": {},
   "outputs": [
    {
     "data": {
      "text/plain": [
       "array(['versicolor', 'virginica', 'versicolor', 'virginica', 'virginica',\n",
       "       'setosa', 'versicolor', 'setosa', 'versicolor', 'virginica',\n",
       "       'virginica', 'setosa', 'versicolor', 'virginica', 'versicolor',\n",
       "       'virginica', 'setosa', 'setosa', 'setosa', 'versicolor', 'setosa',\n",
       "       'setosa', 'virginica', 'virginica', 'virginica', 'virginica',\n",
       "       'virginica', 'versicolor', 'virginica', 'versicolor', 'setosa',\n",
       "       'virginica', 'virginica', 'setosa', 'setosa', 'virginica',\n",
       "       'setosa', 'virginica', 'virginica', 'versicolor', 'versicolor',\n",
       "       'virginica', 'virginica', 'setosa', 'versicolor', 'versicolor',\n",
       "       'virginica', 'versicolor', 'virginica', 'versicolor', 'setosa',\n",
       "       'setosa', 'setosa', 'virginica', 'setosa', 'virginica',\n",
       "       'virginica', 'virginica', 'setosa', 'setosa', 'versicolor',\n",
       "       'setosa', 'virginica', 'versicolor', 'virginica', 'virginica',\n",
       "       'versicolor', 'virginica', 'virginica', 'versicolor', 'setosa',\n",
       "       'versicolor', 'setosa', 'versicolor', 'versicolor', 'setosa',\n",
       "       'versicolor', 'setosa', 'setosa', 'virginica', 'virginica',\n",
       "       'virginica', 'setosa', 'setosa', 'virginica', 'setosa',\n",
       "       'virginica', 'setosa', 'virginica', 'versicolor', 'setosa',\n",
       "       'virginica', 'setosa', 'versicolor', 'setosa', 'versicolor',\n",
       "       'versicolor', 'setosa', 'setosa', 'versicolor', 'setosa',\n",
       "       'versicolor', 'versicolor', 'setosa', 'versicolor', 'versicolor',\n",
       "       'versicolor', 'versicolor', 'virginica', 'setosa', 'setosa',\n",
       "       'virginica', 'versicolor', 'virginica', 'versicolor', 'versicolor',\n",
       "       'virginica', 'virginica', 'virginica', 'setosa'], dtype=object)"
      ]
     },
     "execution_count": 47,
     "metadata": {},
     "output_type": "execute_result"
    }
   ],
   "source": [
    "pred = model.predict(x_t)\n",
    "pred"
   ]
  },
  {
   "cell_type": "code",
   "execution_count": 48,
   "metadata": {},
   "outputs": [
    {
     "data": {
      "text/plain": [
       "0.95"
      ]
     },
     "execution_count": 48,
     "metadata": {},
     "output_type": "execute_result"
    }
   ],
   "source": [
    "accuracy_score(pred,y_t)"
   ]
  },
  {
   "cell_type": "code",
   "execution_count": 49,
   "metadata": {},
   "outputs": [],
   "source": [
    "l=list(range(1,50))\n",
    "neighbors=[]\n",
    "for x in l:\n",
    "    if x%2 != 0:\n",
    "        neighbors.append(x)\n",
    "cv_scores=[]\n",
    "for k in neighbors:\n",
    "    knn=KNeighborsClassifier(n_neighbors=k)\n",
    "    scores =cross_val_score(knn,x_t,y_t,cv=10,scoring='accuracy')\n",
    "    cv_scores.append(scores.mean())"
   ]
  },
  {
   "cell_type": "code",
   "execution_count": 50,
   "metadata": {},
   "outputs": [],
   "source": [
    "MSE=[]\n",
    "for x in cv_scores:\n",
    "    MSE.append((1-x))    "
   ]
  },
  {
   "cell_type": "code",
   "execution_count": 51,
   "metadata": {},
   "outputs": [
    {
     "name": "stdout",
     "output_type": "stream",
     "text": [
      "Optimal neighbors 7\n"
     ]
    },
    {
     "data": {
      "image/png": "[encoded data removed]",
      "text/plain": [
       "<Figure size 432x288 with 1 Axes>"
      ]
     },
     "metadata": {},
     "output_type": "display_data"
    }
   ],
   "source": [
    "optimal_k=neighbors[MSE.index(min(MSE))]\n",
    "print(\"Optimal neighbors\",optimal_k)\n",
    "plt.plot(neighbors,MSE)\n",
    "plt.xlabel(\"Number of neighbors K:\")\n",
    "plt.ylabel(\"Mean Error\")\n",
    "plt.show()"
   ]
  },
  {
   "cell_type": "code",
   "execution_count": null,
   "metadata": {},
   "outputs": [],
   "source": []
  }
 ],
 "metadata": {
  "kernelspec": {
   "display_name": "Python 3",
   "language": "python",
   "name": "python3"
  },
  "language_info": {
   "codemirror_mode": {
    "name": "ipython",
    "version": 3
   },
   "file_extension": ".py",
   "mimetype": "text/x-python",
   "name": "python",
   "nbconvert_exporter": "python",
   "pygments_lexer": "ipython3",
   "version": "3.6.5"
  }
 },
 "nbformat": 4,
 "nbformat_minor": 2
}
